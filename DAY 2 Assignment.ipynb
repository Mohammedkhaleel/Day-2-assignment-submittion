{
 "cells": [
  {
   "cell_type": "markdown",
   "metadata": {},
   "source": [
    "# Question 1"
   ]
  },
  {
   "cell_type": "code",
   "execution_count": 5,
   "metadata": {},
   "outputs": [
    {
     "data": {
      "text/plain": [
       "4"
      ]
     },
     "execution_count": 5,
     "metadata": {},
     "output_type": "execute_result"
    }
   ],
   "source": [
    "A = \" Python language\"\n",
    "A.index(\"h\")"
   ]
  },
  {
   "cell_type": "code",
   "execution_count": 2,
   "metadata": {},
   "outputs": [
    {
     "data": {
      "text/plain": [
       "['Python', 'language']"
      ]
     },
     "execution_count": 2,
     "metadata": {},
     "output_type": "execute_result"
    }
   ],
   "source": [
    "A = \"Python language\"\n",
    "A.split()"
   ]
  },
  {
   "cell_type": "code",
   "execution_count": 4,
   "metadata": {},
   "outputs": [
    {
     "data": {
      "text/plain": [
       "0"
      ]
     },
     "execution_count": 4,
     "metadata": {},
     "output_type": "execute_result"
    }
   ],
   "source": [
    "A = \"Python language\"\n",
    "A.find('P')"
   ]
  },
  {
   "cell_type": "code",
   "execution_count": 6,
   "metadata": {},
   "outputs": [
    {
     "data": {
      "text/plain": [
       "'PYTHON LANGUAGE'"
      ]
     },
     "execution_count": 6,
     "metadata": {},
     "output_type": "execute_result"
    }
   ],
   "source": [
    "A = \"Python language\"\n",
    "A.upper()"
   ]
  },
  {
   "cell_type": "code",
   "execution_count": 7,
   "metadata": {},
   "outputs": [
    {
     "data": {
      "text/plain": [
       "1"
      ]
     },
     "execution_count": 7,
     "metadata": {},
     "output_type": "execute_result"
    }
   ],
   "source": [
    "A = \"Python language\"\n",
    "A.count('P')"
   ]
  },
  {
   "cell_type": "markdown",
   "metadata": {},
   "source": [
    "# Question 2"
   ]
  },
  {
   "cell_type": "code",
   "execution_count": 8,
   "metadata": {},
   "outputs": [
    {
     "name": "stdout",
     "output_type": "stream",
     "text": [
      "['Python', 'Github', 'Lets upgrade', 'Day 2', 'Assigment']\n",
      "['Python', 'Lets upgrade', 'Day 2', 'Assigment']\n",
      "['Python', 'Lets upgrade', 'Day 2', 'Assigment', 'H', 'e', 'l', 'l', 'o']\n",
      "['o', 'l', 'l', 'e', 'H', 'Assigment', 'Day 2', 'Lets upgrade', 'Python']\n",
      "[]\n"
     ]
    }
   ],
   "source": [
    "Example = ['Python', 'Github','Lets upgrade','Day 2']\n",
    "# using append as function.\n",
    "Example.append('Assigment')\n",
    "print(Example)\n",
    "# Using pop as function.\n",
    "Example.pop(1)\n",
    "print(Example)\n",
    "# Using extend as function.\n",
    "Example.extend('Hello')\n",
    "print(Example)\n",
    "# Using reverse as function.\n",
    "Example.reverse()\n",
    "print(Example)\n",
    "# Using clear as function.\n",
    "Example.clear()\n",
    "print(Example)"
   ]
  },
  {
   "cell_type": "markdown",
   "metadata": {},
   "source": [
    "# Question 3"
   ]
  },
  {
   "cell_type": "code",
   "execution_count": 9,
   "metadata": {},
   "outputs": [
    {
     "data": {
      "text/plain": [
       "dict_keys(['1', '2', '3', '4'])"
      ]
     },
     "execution_count": 9,
     "metadata": {},
     "output_type": "execute_result"
    }
   ],
   "source": [
    "dictnoary = {'1' : 'Python', '2' : 'Java Script', '3' : 'Java', '4' : 'C#'}\n",
    "dictnoary.keys()"
   ]
  },
  {
   "cell_type": "code",
   "execution_count": 10,
   "metadata": {},
   "outputs": [
    {
     "data": {
      "text/plain": [
       "{'1': 'Python', '2': 'Java Script', '3': 'Java', '4': 'C#'}"
      ]
     },
     "execution_count": 10,
     "metadata": {},
     "output_type": "execute_result"
    }
   ],
   "source": [
    "dictnoary = {'1' : 'Python', '2' : 'Java Script', '3' : 'Java', '4' : 'C#'}\n",
    "dictnoary.copy()"
   ]
  },
  {
   "cell_type": "code",
   "execution_count": 11,
   "metadata": {},
   "outputs": [
    {
     "data": {
      "text/plain": [
       "'Java'"
      ]
     },
     "execution_count": 11,
     "metadata": {},
     "output_type": "execute_result"
    }
   ],
   "source": [
    "dictnoary = {'1' : 'Python', '2' : 'Java Script', '3' : 'Java', '4' : 'C#'}\n",
    "dictnoary.setdefault('3')"
   ]
  },
  {
   "cell_type": "code",
   "execution_count": 12,
   "metadata": {},
   "outputs": [],
   "source": [
    "dictnoary = {'1' : 'Python', '2' : 'Java Script', '3' : 'Java', '4' : 'C#'}\n",
    "dictnoary.get('4 ')"
   ]
  },
  {
   "cell_type": "code",
   "execution_count": 13,
   "metadata": {},
   "outputs": [
    {
     "data": {
      "text/plain": [
       "('4', 'C#')"
      ]
     },
     "execution_count": 13,
     "metadata": {},
     "output_type": "execute_result"
    }
   ],
   "source": [
    "dictnoary = {'1' : 'Python', '2' : 'Java Script', '3' : 'Java', '4' : 'C#'}\n",
    "dictnoary.popitem()"
   ]
  },
  {
   "cell_type": "code",
   "execution_count": null,
   "metadata": {},
   "outputs": [],
   "source": []
  }
 ],
 "metadata": {
  "kernelspec": {
   "display_name": "Python 3",
   "language": "python",
   "name": "python3"
  },
  "language_info": {
   "codemirror_mode": {
    "name": "ipython",
    "version": 3
   },
   "file_extension": ".py",
   "mimetype": "text/x-python",
   "name": "python",
   "nbconvert_exporter": "python",
   "pygments_lexer": "ipython3",
   "version": "3.8.3"
  }
 },
 "nbformat": 4,
 "nbformat_minor": 4
}
